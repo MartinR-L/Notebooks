{
 "cells": [
  {
   "cell_type": "code",
   "execution_count": 39,
   "id": "03505e7a",
   "metadata": {},
   "outputs": [
    {
     "name": "stdout",
     "output_type": "stream",
     "text": [
      "Populating the interactive namespace from numpy and matplotlib\n"
     ]
    },
    {
     "name": "stderr",
     "output_type": "stream",
     "text": [
      "C:\\Users\\marti\\anaconda3\\lib\\site-packages\\IPython\\core\\magics\\pylab.py:159: UserWarning: pylab import has clobbered these variables: ['linalg', 'random']\n",
      "`%matplotlib` prevents importing * from pylab and numpy\n",
      "  warn(\"pylab import has clobbered these variables: %s\"  % clobbered +\n"
     ]
    }
   ],
   "source": [
    "import numpy as np\n",
    "import scipy\n",
    "from scipy import linalg\n",
    "import matplotlib.pyplot as plt\n",
    "import random\n",
    "from IPython.display import Image\n",
    "%pylab inline"
   ]
  },
  {
   "cell_type": "markdown",
   "id": "8afe621a",
   "metadata": {},
   "source": [
    "This is a primer on Random Matrix Theory, <strong>(RMT)</strong> for short, and some interesting applications with a focus on tools from the scipy package and its linalg subset in particular."
   ]
  },
  {
   "cell_type": "markdown",
   "id": "1a82d1c7",
   "metadata": {},
   "source": [
    "\n",
    "\n",
    "Any good introduction to a mathematical topic includes some historical context. This is important because <strong>math without context obscures the intuition</strong> behind the original abstractions and leads one into a fog of confusion when solving problems. Random matrix theory was invented to describe the statistics of energy level spectra in nuclei. Often, the statistical behavior of systems with wave-like phenomena like interference and coherence can be quantitatively modeled by ensembles of matrices with random, uncorrelated entries.\n",
    "\n"
   ]
  },
  {
   "cell_type": "markdown",
   "id": "db0c6345",
   "metadata": {},
   "source": [
    "A first object of study in Random Matrix Theory is an ensemble of matrices called the Gaussian orthogonal ensemble <strong>(GOE)</strong>. To produce an element of GOE is simple:\n",
    "   * Generate an NxN matrix, $X$, with elements $x_i \\sim  \\mathcal{N}(\\mu,\\sigma) = \\mathcal{N}(0,1)$.\n",
    "   * Make it symmetric: $\\displaystyle M = \\frac{(X+X^T)}{2}$."
   ]
  },
  {
   "cell_type": "markdown",
   "id": "9e2e5fe2",
   "metadata": {},
   "source": [
    "\n",
    "Eugene Wigner was a Hungarian Physicist famous for his work in atomic physics. <a href=\"https://en.wikipedia.org/wiki/Wigner_surmise\"> Wigner's Surmise</a> was an important \"guess\" that the differences of eigenvalues, or spectral separation, divided by the mean of the differences would be universal as a distribution. \n",
    "\n",
    "\n",
    "$$\\rho_{Wigner}(s) = (\\pi s/2) \\exp(-\\pi s^2 / 4)$$\n",
    "\n",
    "$S$ is the spacing and $D$ the mean distance between neighboring intervals, $\\displaystyle s=\\frac{S}{D}$, for a given atomic spectra.\n",
    "\n",
    "Wigner's Surmise is exact for 2 by 2 matrices but does not hold for larger matrices. The Wigner Semicircle Law describes the limiting distribution of the spectrum of random symmetric matrices, but as a limiting distribution it describes the behavior of the eigenvalues as the size of the matrix approaches infinity. These limiting distributions come in several flavors for different matrices and are a fundamental concept in RMT."
   ]
  },
  {
   "cell_type": "code",
   "execution_count": 55,
   "id": "076c707f",
   "metadata": {},
   "outputs": [],
   "source": [
    "#this code produces a GOE ensemble and collects a list of the eigenvalue separations.\n",
    "def GOE(N):\n",
    "    \"\"\"\n",
    "    Outputs an NxN Gaussian Orthogonal Ensemble\n",
    "    \"\"\"\n",
    "    M = np.random.normal(size=(N,N))\n",
    "    M = (M + M.T)\n",
    "    return M\n",
    "\n",
    "def GOE_Ensemble(num, N):\n",
    "    \"\"\"\n",
    "    Outputs an ensemble of length num of NxN GOE matrices.\n",
    "    \n",
    "    \"\"\"\n",
    "    ensemble = [GOE(N) for n in range(num)]\n",
    "    return ensemble\n",
    "def EigDiffCentered(ensemble):\n",
    "    \"\"\"\n",
    "    For each member of the ensemble, calculates the separation between center eigenvalues, and returns the\n",
    "    differences as an array.\n",
    "   \n",
    "    \"\"\"\n",
    "   \n",
    "    N = len(ensemble[0])\n",
    "    diffs = []\n",
    "    \n",
    "    for mat in ensemble:\n",
    "        eigenvalues = sort(eigvalsh(mat))\n",
    "        diffs.append(eigenvalues[N//2] - eigenvalues[N//2-1])\n",
    " \n",
    "    return diffs\n",
    "def lambda_sampler(n_samples, N):\n",
    "    lambdas = []\n",
    "    ensemble = GOE_Ensemble(n_samples, N)\n",
    "    for mat in ensemble:\n",
    "        eigvals = eigvalsh(mat)\n",
    "        lambdas.append(eigvals)\n",
    "    return lambdas "
   ]
  },
  {
   "cell_type": "code",
   "execution_count": 56,
   "id": "f085cbae",
   "metadata": {},
   "outputs": [
    {
     "data": {
      "image/png": "[encoded data removed]",
      "text/plain": [
       "<Figure size 432x288 with 1 Axes>"
      ]
     },
     "metadata": {
      "needs_background": "light"
     },
     "output_type": "display_data"
    }
   ],
   "source": [
    "#Here we check our method and see three positive numbers that look like eigenvalue separation of symmetric 2x2 matrices\n",
    "ensemble = GOE_Ensemble(3,2)\n",
    "plt.hist(EigDiffCentered(ensemble), bins=50, density=True)\n",
    "plt.show()"
   ]
  },
  {
   "cell_type": "markdown",
   "id": "2af1e161",
   "metadata": {},
   "source": [
    "When we draw a larger sample, of size 10000, from the GOE we see that for larger matrices not only is the distribution now \"smooth\" but a pattern emerges. We have what appears to be a heavy-tailed distribution with a mean that is proportional to the size of the matrices."
   ]
  },
  {
   "cell_type": "code",
   "execution_count": 57,
   "id": "162a0600",
   "metadata": {},
   "outputs": [],
   "source": [
    "X1 = EigDiffCentered(GOE_Ensemble(10000, 4))\n",
    "X2 = EigDiffCentered(GOE_Ensemble(10000, 16))\n",
    "X3 = EigDiffCentered(GOE_Ensemble(10000, 64))"
   ]
  },
  {
   "cell_type": "code",
   "execution_count": 58,
   "id": "ca99e9c6",
   "metadata": {},
   "outputs": [
    {
     "data": {
      "text/plain": [
       "<function matplotlib.pyplot.show(close=None, block=None)>"
      ]
     },
     "execution_count": 58,
     "metadata": {},
     "output_type": "execute_result"
    },
    {
     "data": {
      "image/png": "[encoded data removed]",
      "text/plain": [
       "<Figure size 432x288 with 1 Axes>"
      ]
     },
     "metadata": {
      "needs_background": "light"
     },
     "output_type": "display_data"
    }
   ],
   "source": [
    "plt.hist(X1, bins=50)\n",
    "plt.hist(X2, bins=50)\n",
    "plt.hist(X3, bins=50)\n",
    "plt.show"
   ]
  },
  {
   "cell_type": "code",
   "execution_count": 60,
   "id": "8d5a0441",
   "metadata": {},
   "outputs": [
    {
     "data": {
      "text/plain": [
       "(array([[0., 0., 0., ..., 1., 1., 0.],\n",
       "        [0., 0., 1., ..., 1., 1., 0.],\n",
       "        [0., 0., 1., ..., 0., 1., 0.],\n",
       "        ...,\n",
       "        [0., 1., 0., ..., 1., 1., 0.],\n",
       "        [0., 1., 0., ..., 1., 0., 0.],\n",
       "        [0., 0., 2., ..., 1., 0., 0.]]),\n",
       " array([-12.95171882, -10.29930197,  -7.64688512,  -4.99446827,\n",
       "         -2.34205142,   0.31036543,   2.96278228,   5.61519913,\n",
       "          8.26761598,  10.92003282,  13.57244967]),\n",
       " <a list of 10000 BarContainer objects>)"
      ]
     },
     "execution_count": 60,
     "metadata": {},
     "output_type": "execute_result"
    },
    {
     "data": {
      "image/png": "[encoded data removed]",
      "text/plain": [
       "<Figure size 432x288 with 1 Axes>"
      ]
     },
     "metadata": {
      "needs_background": "light"
     },
     "output_type": "display_data"
    }
   ],
   "source": [
    "test = lambda_sampler(10000, 10)\n",
    "\n",
    "plt.hist(test)\n"
   ]
  },
  {
   "cell_type": "markdown",
   "id": "be24a9ce",
   "metadata": {},
   "source": [
    "Similarly to symmetric matrices with elements drawn from a normal distribution, one might wonder about results for covariance matrices. The Marchenko-Pastur Law describes the limiting distribution or spectral density for just such matrices.\n",
    "\n",
    "<a href=\"https://en.wikipedia.org/wiki/Marchenko%E2%80%93Pastur_distribution\">Spectral Distribution for eigenvalues of Covariance Matrices</a>"
   ]
  },
  {
   "cell_type": "code",
   "execution_count": 126,
   "id": "77082af8",
   "metadata": {},
   "outputs": [
    {
     "data": {
      "text/html": [
       "<img src=\"Randon Matrix Laws.jpg\" width=\"1200\" height=\"1200\"/>"
      ],
      "text/plain": [
       "<IPython.core.display.Image object>"
      ]
     },
     "execution_count": 126,
     "metadata": {},
     "output_type": "execute_result"
    }
   ],
   "source": [
    "Image(url= \"Randon Matrix Laws.jpg\", width=1200, height=1200)"
   ]
  },
  {
   "cell_type": "code",
   "execution_count": 134,
   "id": "10ccb490",
   "metadata": {},
   "outputs": [],
   "source": [
    "def randcv(n, p, s,\n",
    "    t=\"N\",\n",
    "    f=None):\n",
    "    \"\"\"\n",
    "    s number of covariance matrices of random matrices of n x p shape\n",
    "\n",
    "    t: N for normal, B for binary distribution [0,1] \n",
    "\n",
    "    f: Filter. Z0 , Z1 for zscore on axis 0 or 1\n",
    "\n",
    "    Returns  s x n x n array\n",
    "    \"\"\"\n",
    "    r=[]\n",
    "    for i in range(s):\n",
    "        x=np.random.normal(size=(n,p))\n",
    "        if t == \"B\":\n",
    "            x=x>0.5\n",
    "        if f == \"Z0\":\n",
    "            x=scipy.stats.zscore(x, axis=0)\n",
    "        elif f == \"Z1\":\n",
    "            x=scipy.stats.zscore(x, axis=1)\n",
    "        r.append(np.cov(x))\n",
    "    return np.array(r)\n",
    "\n",
    "def marchpast(l, g):\n",
    "    \"Marchenko-Pastur distribution\"\n",
    "    def m0(a):\n",
    "        \"Element wise maximum of (a,0)\"\n",
    "        return np.maximum(a, np.zeros_like(a))\n",
    "    gplus=(1+g**0.5)**2\n",
    "    gminus=(1-g**0.5)**2\n",
    "    return np.sqrt(  m0(gplus  - l) *  m0(l- gminus)) / ( 2*np.pi*g*l)\n",
    "\n",
    "def EE(a, gamma):\n",
    "    \"Calculate and show histogram of eigenvalues\"\n",
    "    ee, ev=np.linalg.eigh(a)\n",
    "    nn, bb, patches=plt.hist(ee.ravel(), \n",
    "                                bins=\"auto\", \n",
    "                                density=True)\n",
    "    x=np.arange(bb[0], bb[-1], 0.003)\n",
    "    plt.plot(x, marchpast(x, gamma))\n",
    "    plt.ylim(top=nn[1:].max() * 1.1)\n",
    "    plt.title('Empirical Distribution of Eigenvalues compared to Marchenko-Pastur Law')\n",
    "    plt.show()"
   ]
  },
  {
   "cell_type": "code",
   "execution_count": 135,
   "id": "6d9cb3fa",
   "metadata": {},
   "outputs": [
    {
     "data": {
      "image/png": "[encoded data removed]",
      "text/plain": [
       "<Figure size 432x288 with 1 Axes>"
      ]
     },
     "metadata": {
      "needs_background": "light"
     },
     "output_type": "display_data"
    }
   ],
   "source": [
    "#This calculation will take a few seconds, be patient.\n",
    "EE(randcv(50,300,50000, \"N\"), 5.0/30.)"
   ]
  },
  {
   "cell_type": "code",
   "execution_count": 129,
   "id": "2d835b12",
   "metadata": {},
   "outputs": [],
   "source": [
    "def Wishart(n,p,baseVariance):\n",
    "    returnVal=np.zeros([n,p])\n",
    "    for rowIndex in range(0,n):\n",
    "        nextRow= np.random.multivariate_normal(np.zeros(p),baseVariance*np.identity(p))\n",
    "        returnVal[rowIndex,:]=nextRow\n",
    "    return np.dot(np.transpose(returnVal),returnVal)\n",
    "    \n",
    "def InverseWishart(n,p,baseVariance):\n",
    "    baseVariance=1/(baseVariance+.0)\n",
    "    returnVal=Wishart(n,p,baseVariance)\n",
    "    return np.linalg.linalg.inv(returnVal)"
   ]
  }
 ],
 "metadata": {
  "kernelspec": {
   "display_name": "Python 3",
   "language": "python",
   "name": "python3"
  },
  "language_info": {
   "codemirror_mode": {
    "name": "ipython",
    "version": 3
   },
   "file_extension": ".py",
   "mimetype": "text/x-python",
   "name": "python",
   "nbconvert_exporter": "python",
   "pygments_lexer": "ipython3",
   "version": "3.8.8"
  }
 },
 "nbformat": 4,
 "nbformat_minor": 5
}
