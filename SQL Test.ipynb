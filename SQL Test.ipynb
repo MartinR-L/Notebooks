{
 "cells": [
  {
   "cell_type": "code",
   "execution_count": 1,
   "id": "1d4ac35d",
   "metadata": {},
   "outputs": [],
   "source": [
    "import sqlite3\n",
    "import pandas as pd"
   ]
  },
  {
   "cell_type": "markdown",
   "id": "6cea31fd",
   "metadata": {},
   "source": [
    "To use SQL in python we will need:\n",
    "- A connection, or handshake with the database.\n",
    "- A cursor object, to implement our queries.\n",
    "- A query, our actual SQL code."
   ]
  },
  {
   "cell_type": "code",
   "execution_count": null,
   "id": "ffc44959",
   "metadata": {},
   "outputs": [],
   "source": [
    "Pathname = Our_Database_Object\n",
    "sql_connect = sqlite3.connect(*Pathname)"
   ]
  },
  {
   "cell_type": "code",
   "execution_count": null,
   "id": "9927d508",
   "metadata": {},
   "outputs": [],
   "source": [
    "cursor = sql_connect.cursor()"
   ]
  },
  {
   "cell_type": "code",
   "execution_count": null,
   "id": "7306afbf",
   "metadata": {},
   "outputs": [],
   "source": [
    "query = \"SELECT * FROM;\""
   ]
  },
  {
   "cell_type": "code",
   "execution_count": null,
   "id": "f624cbad",
   "metadata": {},
   "outputs": [],
   "source": [
    "results = cursor.execute(query).fetchall()"
   ]
  },
  {
   "cell_type": "code",
   "execution_count": null,
   "id": "c8c40f0c",
   "metadata": {},
   "outputs": [],
   "source": [
    "pd.read_sql_query(query,sql_connect)"
   ]
  },
  {
   "cell_type": "code",
   "execution_count": null,
   "id": "9799be98",
   "metadata": {},
   "outputs": [],
   "source": [
    "sql_connect.close()"
   ]
  },
  {
   "cell_type": "code",
   "execution_count": null,
   "id": "0de37214",
   "metadata": {},
   "outputs": [],
   "source": [
    "#Outputs histograms from query\n",
    "\n",
    "import matplotlib.pyplot as plt\n",
    "import seaborn as sns\n",
    "%matplotlib inline\n",
    "fig = plt.figure(figsize=(10,10))\n",
    "ax = fig.add_subplot(111)\n",
    "query = '''\n",
    "#Query text goes here.\n",
    "'''\n",
    "pd.read_sql_query(query, sql_connect).hist(ax=ax)"
   ]
  },
  {
   "cell_type": "markdown",
   "id": "a187d8de",
   "metadata": {},
   "source": [
    "A standard use for querying a database might be to construct a window or CTE using some aggregation method for later analysis in Python. Following are some standard windowing and CTE queries."
   ]
  },
  {
   "cell_type": "code",
   "execution_count": null,
   "id": "6924ea9c",
   "metadata": {},
   "outputs": [],
   "source": [
    "#Sample Window Tables\n",
    "\n",
    "##Total Values\n",
    "SELECT TableKey, Value, \n",
    "#Summation over Value by TableKey\n",
    "       SUM(Value) \n",
    "#Create the window and partitions\n",
    "       OVER(PARTITION BY TableKey) AS TotalValue\n",
    "FROM TableName\n",
    "\n",
    "\n",
    "\n",
    "##Counting Rows\n",
    "SELECT TableKey, Value, \n",
    "#Number of rows per partition\n",
    "              COUNT(Value) \n",
    "#Create the window and partitions\n",
    "       OVER(PARTITION BY TableKey ORDER BY TableKey) AS TotalValue\n",
    "FROM TableName\n",
    "\n",
    "##Similarly, FIRST_VALUE, LAST_VALUE, LEAD, and LAG may be applied as a windowing function but will naturally require ORDER BY.\n",
    "\n",
    "SELECT TableKey, DateValue, \n",
    "#Specify the previous OrderDate in the window\n",
    "       LAG(DateValue) \n",
    "#Over the window, partition by territory & order by order date\n",
    "       OVER(PARTITION BY TableKey ORDER BY DateValue) AS PreviousDateValue,\n",
    "#Specify the next DateValue in the window\n",
    "       LEAD(DateValue) \n",
    "#Create the partitions and arrange the rows\n",
    "       OVER(PARTITION BY TableKey ORDER BY DateValue) AS NextDateValue\n",
    "FROM TableName\n",
    "\n",
    "\n",
    "\n",
    "##Running totals\n",
    "\n",
    "\n",
    "SELECT TableKey, DateValue,\n",
    "#Create a running total\n",
    "       SUM(Value) \n",
    "#Create the partitions and arrange the rows\n",
    "       OVER(PARTITION BY TableKey ORDER BY DateValue) AS RunningTotal\n",
    "FROM TableName\n",
    "\n",
    "#Both standard deviation and mode can be used in windows.\n",
    "\n",
    "##Create a CTE Called ModeValue which contains two columns\n",
    "\n",
    "WITH ModeValue (Value, ValueFrequency)\n",
    "AS\n",
    "(\n",
    "    SELECT Value, \n",
    "    ROW_NUMBER() \n",
    "    OVER(PARTITION BY Value ORDER BY Value) AS ValueFrequency\n",
    "    FROM TabelName \n",
    ")\n",
    "\n",
    "SELECT Value AS TableMode\n",
    "FROM ModeValue\n",
    "#Select the maximum UnitPriceFrequency from the CTE\n",
    "WHERE ValueFrequency IN (SELECT MAX(ValueFrequency) From ModeValue)\n"
   ]
  },
  {
   "cell_type": "code",
   "execution_count": null,
   "id": "7d2f8da3",
   "metadata": {},
   "outputs": [],
   "source": [
    "#The generic method for creating a CTE.\n",
    "\n",
    "WITH CTEName (Col1, Col2)\n",
    "AS\n",
    "#Define the CTE query\n",
    "(\n",
    "#The two columns from the definition above\n",
    "    SELECT Col1, Col2\n",
    "    FROM TableName\n",
    ")  \n"
   ]
  },
  {
   "cell_type": "code",
   "execution_count": null,
   "id": "7e4f4fc8",
   "metadata": {},
   "outputs": [],
   "source": [
    "#Returns all tablevalues that match the max ordered by table key.\n",
    "\n",
    "SELECT *\n",
    "FROM TableName AS Tb1\n",
    "#JOIN and create the derived table\n",
    "JOIN (SELECT TableKey, MAX(TableValue) AS MaxTableValue FROM TableName GROUP BY TabelKey) AS Tb2\n",
    "#JOIN on TableValue equal to MaxTableValue\n",
    "ON Tb1.TableValue = Tb2.MaxTableValue\n",
    "#Join on TableKey\n",
    "AND Tb1.TableKey = Tb2.TableKey\n",
    "\n",
    "\n",
    "##Sample CTEs\n",
    "\n",
    "#Returns all information for the record that matches the maximum table value.\n",
    "\n",
    "#Create the CTE\n",
    "WITH CTEName (MaxTableValue)\n",
    "AS (SELECT MAX(TableValue) FROM TableName)\n",
    "\n",
    "SELECT *\n",
    "FROM TableName AS Tb1\n",
    "#Join the CTE  \n",
    "JOIN CTEName AS Tb2\n",
    "ON Tb1.TableValue = Tb2.MaxTableValue\n"
   ]
  }
 ],
 "metadata": {
  "kernelspec": {
   "display_name": "Python 3",
   "language": "python",
   "name": "python3"
  },
  "language_info": {
   "codemirror_mode": {
    "name": "ipython",
    "version": 3
   },
   "file_extension": ".py",
   "mimetype": "text/x-python",
   "name": "python",
   "nbconvert_exporter": "python",
   "pygments_lexer": "ipython3",
   "version": "3.8.8"
  }
 },
 "nbformat": 4,
 "nbformat_minor": 5
}
