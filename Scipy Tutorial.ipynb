{
 "cells": [
  {
   "cell_type": "code",
   "execution_count": 13,
   "id": "dbf0933e",
   "metadata": {},
   "outputs": [],
   "source": [
    "import numpy as np\n",
    "from scipy import linalg, sparse\n",
    "import scipy\n",
    "import matplotlib.pyplot as plt"
   ]
  },
  {
   "cell_type": "code",
   "execution_count": 14,
   "id": "40433999",
   "metadata": {},
   "outputs": [
    {
     "data": {
      "text/html": [
       "<img src=\"SciPy LinAlg Intro.jpg\" width=\"1200\" height=\"1200\"/>"
      ],
      "text/plain": [
       "<IPython.core.display.Image object>"
      ]
     },
     "execution_count": 14,
     "metadata": {},
     "output_type": "execute_result"
    }
   ],
   "source": [
    "from IPython.display import Image\n",
    "Image(url= \"SciPy LinAlg Intro.jpg\", width=1200, height=1200) "
   ]
  },
  {
   "cell_type": "code",
   "execution_count": 6,
   "id": "ce875841",
   "metadata": {},
   "outputs": [
    {
     "data": {
      "text/html": [
       "<img src=\"Norms Ref.jpg\" width=\"1200\" height=\"1200\"/>"
      ],
      "text/plain": [
       "<IPython.core.display.Image object>"
      ]
     },
     "execution_count": 6,
     "metadata": {},
     "output_type": "execute_result"
    }
   ],
   "source": [
    "Image(url= \"Norms Ref.jpg\", width=1200, height=1200) "
   ]
  },
  {
   "cell_type": "code",
   "execution_count": null,
   "id": "9e1c16f4",
   "metadata": {},
   "outputs": [],
   "source": [
    "linalg.norm(A, 'fro') #frobenius norm is the default\n",
    "linalg.norm(A, 1) #L1 norm (max column sum)\n",
    "linalg.norm(A, np.inf) # L inf norm (max row sum)\n"
   ]
  },
  {
   "cell_type": "code",
   "execution_count": 3,
   "id": "497e0fef",
   "metadata": {},
   "outputs": [
    {
     "data": {
      "text/html": [
       "<img src=\"Gen Inverse.jpg\" width=\"1200\" height=\"1200\"/>"
      ],
      "text/plain": [
       "<IPython.core.display.Image object>"
      ]
     },
     "execution_count": 3,
     "metadata": {},
     "output_type": "execute_result"
    }
   ],
   "source": [
    "Image(url= \"Gen Inverse.jpg\", width=1200, height=1200) "
   ]
  },
  {
   "cell_type": "code",
   "execution_count": 15,
   "id": "8ed737bf",
   "metadata": {},
   "outputs": [
    {
     "data": {
      "text/plain": [
       "array([ 5.58713614, -1.86332871])"
      ]
     },
     "execution_count": 15,
     "metadata": {},
     "output_type": "execute_result"
    }
   ],
   "source": [
    "f = np.poly1d([5, 1])\n",
    "x = np.linspace(0, 10, 30)\n",
    "y = f(x) + 6*np.random.normal(size=len(x))\n",
    "\n",
    "\n",
    "#Two ways to do OLS\n",
    "A = np.vstack([x, np.ones(len(x))]).T\n",
    "np.dot(np.linalg.inv(np.dot(A.T, A)), np.dot(A.T, y)) \n",
    "#Should return slope and intercept for linear-fit by computing [(A^TA)^-1]A^Ty= b"
   ]
  },
  {
   "cell_type": "code",
   "execution_count": 16,
   "id": "e5ae6886",
   "metadata": {},
   "outputs": [
    {
     "name": "stderr",
     "output_type": "stream",
     "text": [
      "<ipython-input-16-c815b938290b>:1: FutureWarning: `rcond` parameter will change to the default of machine precision times ``max(M, N)`` where M and N are the input matrix dimensions.\n",
      "To use the future default and silence this warning we advise to pass `rcond=None`, to keep using the old, explicitly pass `rcond=-1`.\n",
      "  np.linalg.lstsq(A, y)[0]\n"
     ]
    },
    {
     "data": {
      "text/plain": [
       "array([ 5.58713614, -1.86332871])"
      ]
     },
     "execution_count": 16,
     "metadata": {},
     "output_type": "execute_result"
    }
   ],
   "source": [
    "np.linalg.lstsq(A, y)[0]"
   ]
  },
  {
   "cell_type": "code",
   "execution_count": 17,
   "id": "cc9d5ca0",
   "metadata": {},
   "outputs": [
    {
     "data": {
      "image/png": "[encoded data removed]",
      "text/plain": [
       "<Figure size 432x288 with 1 Axes>"
      ]
     },
     "metadata": {
      "needs_background": "light"
     },
     "output_type": "display_data"
    }
   ],
   "source": [
    "plt.plot(x, y, '.b')\n",
    "plt.show()"
   ]
  },
  {
   "cell_type": "code",
   "execution_count": 7,
   "id": "1653ab8a",
   "metadata": {},
   "outputs": [],
   "source": [
    "def leastsq1(x):\n",
    "    A = np.vstack([x, np.ones(len(x))]).T\n",
    "    return np.dot(np.linalg.inv(np.dot(A.T, A)), np.dot(A.T, y))\n",
    "\n",
    "def leastsq2(x):\n",
    "    A = np.vstack([x, np.ones(len(x))]).T\n",
    "    return np.linalg.lstsq(np.vstack([x, np.ones(len(x))]).T, y)[0]\n",
    "\n",
    "def leastsq3(x):\n",
    "    return np.polyfit(x, y, 1)"
   ]
  },
  {
   "cell_type": "code",
   "execution_count": 8,
   "id": "833b5ef2",
   "metadata": {},
   "outputs": [
    {
     "name": "stdout",
     "output_type": "stream",
     "text": [
      "12.2 µs ± 98.7 ns per loop (mean ± std. dev. of 7 runs, 100000 loops each)\n"
     ]
    }
   ],
   "source": [
    "%timeit leastsq1(x)"
   ]
  },
  {
   "cell_type": "code",
   "execution_count": 9,
   "id": "efc9cf4a",
   "metadata": {},
   "outputs": [
    {
     "name": "stderr",
     "output_type": "stream",
     "text": [
      "<ipython-input-7-1f920864d4fc>:7: FutureWarning: `rcond` parameter will change to the default of machine precision times ``max(M, N)`` where M and N are the input matrix dimensions.\n",
      "To use the future default and silence this warning we advise to pass `rcond=None`, to keep using the old, explicitly pass `rcond=-1`.\n",
      "  return np.linalg.lstsq(np.vstack([x, np.ones(len(x))]).T, y)[0]\n"
     ]
    },
    {
     "name": "stdout",
     "output_type": "stream",
     "text": [
      "26.1 µs ± 2.29 µs per loop (mean ± std. dev. of 7 runs, 10000 loops each)\n"
     ]
    }
   ],
   "source": [
    "%timeit leastsq2(x)"
   ]
  },
  {
   "cell_type": "code",
   "execution_count": 10,
   "id": "2095182e",
   "metadata": {},
   "outputs": [
    {
     "name": "stdout",
     "output_type": "stream",
     "text": [
      "36.1 µs ± 1.5 µs per loop (mean ± std. dev. of 7 runs, 10000 loops each)\n"
     ]
    }
   ],
   "source": [
    "%timeit leastsq3(x)"
   ]
  },
  {
   "cell_type": "code",
   "execution_count": 58,
   "id": "c8f0baf9",
   "metadata": {},
   "outputs": [
    {
     "data": {
      "text/html": [
       "<img src=\"SciPy Special Matrices.jpg\" width=\"1200\" height=\"1200\"/>"
      ],
      "text/plain": [
       "<IPython.core.display.Image object>"
      ]
     },
     "execution_count": 58,
     "metadata": {},
     "output_type": "execute_result"
    }
   ],
   "source": [
    "Image(url= \"SciPy Special Matrices.jpg\", width=1200, height=1200) "
   ]
  },
  {
   "cell_type": "code",
   "execution_count": null,
   "id": "1f0c09c4",
   "metadata": {},
   "outputs": [],
   "source": [
    "# Create a dense meshgrid\n",
    "np.mgrid[1:11:2, -12:-3:3]\n",
    "\n",
    "# Create an open meshgrid\n",
    "np.ogrid[1:11:2, -12:-3:3]\n",
    "\n",
    "# Stack arrays vertically\n",
    "np.r_[3,[0]*5,-1:1:10j]\n",
    "\n",
    "# Stack arrays horizontally \n",
    "np.c_[array, my_2dArray]"
   ]
  },
  {
   "cell_type": "code",
   "execution_count": null,
   "id": "77203bf4",
   "metadata": {},
   "outputs": [],
   "source": [
    "# Create a 2X2 identity matrix\n",
    "np.eye(3, k=1)        \n",
    "\n",
    "# Create a 2x2 identity matrix\n",
    "np.mat(np.identity(2))         \n",
    "\n",
    "# Compressed Sparse Row matrix, scipy uses the ARPACK for finding eigenvalues of sparse matrices efficiently.\n",
    "sparse.csr_matrix(C) \n",
    "\n",
    "# Compressed Sparse Column matrix\n",
    "sparse.csc_matrix(C)  \n",
    "\n",
    "# Dictionary Of Keys matrix\n",
    "sparse.dok_matrix(C)  "
   ]
  },
  {
   "cell_type": "code",
   "execution_count": null,
   "id": "c8a7f740",
   "metadata": {},
   "outputs": [],
   "source": [
    "#scipy.linalg supports all of the common matrix factorizations: LU, QR, Cholesky, Schur and the most important of all..."
   ]
  },
  {
   "cell_type": "code",
   "execution_count": null,
   "id": "f1255b01",
   "metadata": {},
   "outputs": [],
   "source": [
    "# Singular Value Decomposition, returns singular values as an array.\n",
    "U,s,Vh = linalg.svd(myMatrix) \n",
    "\n",
    "# Initialize `M` and `N`\n",
    "M,N = myMatrix.shape\n",
    "\n",
    "# Construct sigma matrix in SVD, i.e. an M-by-N matrix with the singular values on the diagonal.\n",
    "Sig = linalg.diagsvd(s,M,N)"
   ]
  },
  {
   "cell_type": "code",
   "execution_count": 68,
   "id": "8214e250",
   "metadata": {},
   "outputs": [
    {
     "data": {
      "text/html": [
       "<img src=\"Four Subspaces.png\" width=\"1200\" height=\"1200\"/>"
      ],
      "text/plain": [
       "<IPython.core.display.Image object>"
      ]
     },
     "execution_count": 68,
     "metadata": {},
     "output_type": "execute_result"
    }
   ],
   "source": [
    "Image(url= \"Four Subspaces.png\", width=1200, height=1200) "
   ]
  },
  {
   "cell_type": "code",
   "execution_count": 70,
   "id": "c504a3fc",
   "metadata": {},
   "outputs": [
    {
     "data": {
      "text/html": [
       "<a href=\"https://en.wikipedia.org/wiki/Eigenface#Connection_with_SVD\"> \n",
       "Eigenfaces and the SVD</a>\n"
      ],
      "text/plain": [
       "<IPython.core.display.HTML object>"
      ]
     },
     "metadata": {},
     "output_type": "display_data"
    }
   ],
   "source": [
    "%%html\n",
    "<a href=\"https://en.wikipedia.org/wiki/Eigenface#Connection_with_SVD\"> \n",
    "Eigenfaces and the SVD</a>"
   ]
  },
  {
   "cell_type": "code",
   "execution_count": 59,
   "id": "070ae8ff",
   "metadata": {},
   "outputs": [
    {
     "data": {
      "text/html": [
       "<img src=\"Matrix Functions.jpg\" width=\"1200\" height=\"1200\"/>"
      ],
      "text/plain": [
       "<IPython.core.display.Image object>"
      ]
     },
     "execution_count": 59,
     "metadata": {},
     "output_type": "execute_result"
    }
   ],
   "source": [
    "Image(url= \"Matrix Functions.jpg\", width=1200, height=1200) "
   ]
  },
  {
   "cell_type": "code",
   "execution_count": 60,
   "id": "f33f0429",
   "metadata": {},
   "outputs": [
    {
     "data": {
      "text/html": [
       "<img src=\"Arb Functions.jpg\" width=\"1200\" height=\"1200\"/>"
      ],
      "text/plain": [
       "<IPython.core.display.Image object>"
      ]
     },
     "execution_count": 60,
     "metadata": {},
     "output_type": "execute_result"
    }
   ],
   "source": [
    "Image(url= \"Arb Functions.jpg\", width=1200, height=1200) "
   ]
  },
  {
   "cell_type": "code",
   "execution_count": null,
   "id": "389ed0da",
   "metadata": {},
   "outputs": [],
   "source": [
    "linalg.expm\n",
    "linalg.logm\n",
    "linalg.sinm\n",
    "linalg.cosm\n",
    "linalg.tanm"
   ]
  },
  {
   "cell_type": "code",
   "execution_count": 61,
   "id": "622ec684",
   "metadata": {},
   "outputs": [
    {
     "data": {
      "text/plain": [
       "array([[0.78536742, 0.79819691, 0.34988952],\n",
       "       [0.95648053, 0.87452569, 0.79323603],\n",
       "       [0.59438364, 0.46936393, 0.52242528]])"
      ]
     },
     "execution_count": 61,
     "metadata": {},
     "output_type": "execute_result"
    }
   ],
   "source": [
    "from scipy import special, linalg\n",
    "rng = np.random.default_rng()\n",
    "A = rng.random((3, 3))\n",
    "B = linalg.funm(A, lambda x: special.jv(0, x))#special.jv are the Bessel Functions from mathematical physics.\n",
    "A"
   ]
  },
  {
   "cell_type": "code",
   "execution_count": 62,
   "id": "37e5bded",
   "metadata": {},
   "outputs": [
    {
     "data": {
      "text/plain": [
       "array([[ 0.69893853, -0.28319806, -0.20600032],\n",
       "       [-0.39069907,  0.64001626, -0.27450042],\n",
       "       [-0.23282164, -0.21408756,  0.83792141]])"
      ]
     },
     "execution_count": 62,
     "metadata": {},
     "output_type": "execute_result"
    }
   ],
   "source": [
    "B"
   ]
  },
  {
   "cell_type": "code",
   "execution_count": 63,
   "id": "0f78c5d5",
   "metadata": {},
   "outputs": [
    {
     "data": {
      "text/plain": [
       "array([2.0859138+0.j        , 0.0482023+0.08266913j,\n",
       "       0.0482023-0.08266913j])"
      ]
     },
     "execution_count": 63,
     "metadata": {},
     "output_type": "execute_result"
    }
   ],
   "source": [
    "linalg.eigvals(A)"
   ]
  },
  {
   "cell_type": "code",
   "execution_count": 64,
   "id": "277345bd",
   "metadata": {},
   "outputs": [
    {
     "data": {
      "text/plain": [
       "array([0.17462219-4.22940923e-17j, 1.00112701-1.99354439e-03j,\n",
       "       1.00112701+1.99354439e-03j])"
      ]
     },
     "execution_count": 64,
     "metadata": {},
     "output_type": "execute_result"
    }
   ],
   "source": [
    "special.jv(0, linalg.eigvals(A))"
   ]
  },
  {
   "cell_type": "code",
   "execution_count": 65,
   "id": "3fb4f52d",
   "metadata": {},
   "outputs": [
    {
     "data": {
      "text/plain": [
       "array([0.17462219+0.j        , 1.00112701+0.00199354j,\n",
       "       1.00112701-0.00199354j])"
      ]
     },
     "execution_count": 65,
     "metadata": {},
     "output_type": "execute_result"
    }
   ],
   "source": [
    "linalg.eigvals(B)\n",
    "#Note how, by virtue of how matrix analytic functions are defined, the Bessel function has acted on the matrix eigenvalues"
   ]
  },
  {
   "cell_type": "code",
   "execution_count": 1,
   "id": "7d5b2836",
   "metadata": {},
   "outputs": [
    {
     "data": {
      "text/html": [
       "<a href=\"https://en.wikipedia.org/wiki/Marchenko%E2%80%93Pastur_distribution\"> \n",
       "Spectral Distributionfor eigenvalues of Covariance Matrices</a>\n"
      ],
      "text/plain": [
       "<IPython.core.display.HTML object>"
      ]
     },
     "metadata": {},
     "output_type": "display_data"
    }
   ],
   "source": [
    "%%html\n",
    "<a href=\"https://en.wikipedia.org/wiki/Marchenko%E2%80%93Pastur_distribution\"> \n",
    "Spectral Distributionfor eigenvalues of Covariance Matrices</a>"
   ]
  },
  {
   "cell_type": "code",
   "execution_count": 2,
   "id": "1d2a18c7",
   "metadata": {},
   "outputs": [
    {
     "data": {
      "text/html": [
       "<a href=\"https://en.wikipedia.org/wiki/Wigner_semicircle_distribution\"> \n",
       "Spectral Distribution for eigenvalues of symmetric matrices</a>\n"
      ],
      "text/plain": [
       "<IPython.core.display.HTML object>"
      ]
     },
     "metadata": {},
     "output_type": "display_data"
    }
   ],
   "source": [
    "%%html\n",
    "<a href=\"https://en.wikipedia.org/wiki/Wigner_semicircle_distribution\"> \n",
    "Spectral Distribution for eigenvalues of symmetric matrices</a>"
   ]
  },
  {
   "cell_type": "code",
   "execution_count": 30,
   "id": "80002da3",
   "metadata": {},
   "outputs": [
    {
     "data": {
      "text/html": [
       "<img src=\"Randon Matrix Laws.jpg\" width=\"1200\" height=\"1200\"/>"
      ],
      "text/plain": [
       "<IPython.core.display.Image object>"
      ]
     },
     "execution_count": 30,
     "metadata": {},
     "output_type": "execute_result"
    }
   ],
   "source": [
    "Image(url= \"Randon Matrix Laws.jpg\", width=1200, height=1200)"
   ]
  },
  {
   "cell_type": "code",
   "execution_count": 49,
   "id": "802198cf",
   "metadata": {},
   "outputs": [],
   "source": [
    "def randcv(n, p, s,\n",
    "    t=\"N\",\n",
    "    f=None):\n",
    "    \"\"\"\n",
    "    s number of covariance matrices of random matrices of n x p shape\n",
    "\n",
    "    t: N for normal, B for binary distribution [0,1] \n",
    "\n",
    "    f: Filter. Z0 , Z1 for zscore on axis 0 or 1\n",
    "\n",
    "    Returns  s x n x n array\n",
    "    \"\"\"\n",
    "    r=[]\n",
    "    for i in range(s):\n",
    "        x=np.random.normal(size=(n,p))\n",
    "        if t == \"B\":\n",
    "            x=x>0.5\n",
    "        if f == \"Z0\":\n",
    "            x=scipy.stats.zscore(x, axis=0)\n",
    "        elif f == \"Z1\":\n",
    "            x=scipy.stats.zscore(x, axis=1)\n",
    "        r.append(np.cov(x))\n",
    "    return np.array(r)"
   ]
  },
  {
   "cell_type": "code",
   "execution_count": 50,
   "id": "897f5211",
   "metadata": {},
   "outputs": [],
   "source": [
    "def marchpast(l, g):\n",
    "    \"Marchenko-Pastur distribution\"\n",
    "    def m0(a):\n",
    "        \"Element wise maximum of (a,0)\"\n",
    "        return np.maximum(a, np.zeros_like(a))\n",
    "    gplus=(1+g**0.5)**2\n",
    "    gminus=(1-g**0.5)**2\n",
    "    return np.sqrt(  m0(gplus  - l) *  m0(l- gminus)) / ( 2*np.pi*g*l)"
   ]
  },
  {
   "cell_type": "code",
   "execution_count": 56,
   "id": "f6b48ce3",
   "metadata": {},
   "outputs": [],
   "source": [
    "def EE(a, gamma):\n",
    "    \"Calculate and show histogram of eigenvalues\"\n",
    "    ee, ev=np.linalg.eigh(a)\n",
    "    nn, bb, patches=plt.hist(ee.ravel(), \n",
    "                                bins=\"auto\", \n",
    "                                density=True)\n",
    "    x=np.arange(bb[0], bb[-1], 0.003)\n",
    "    plt.plot(x, marchpast(x, gamma))\n",
    "    plt.ylim(top=nn[1:].max() * 1.1)\n",
    "    plt.title('Empirical Distribution of Eigenvalues compared to Marchenko-Pastur Law')\n",
    "    plt.show()\n",
    "    "
   ]
  },
  {
   "cell_type": "code",
   "execution_count": 57,
   "id": "ac8243d0",
   "metadata": {},
   "outputs": [
    {
     "data": {
      "image/png": "[encoded data removed]",
      "text/plain": [
       "<Figure size 432x288 with 1 Axes>"
      ]
     },
     "metadata": {
      "needs_background": "light"
     },
     "output_type": "display_data"
    }
   ],
   "source": [
    "EE(randcv(50,300,50000, \"N\"), 5.0/30.)"
   ]
  },
  {
   "cell_type": "code",
   "execution_count": 18,
   "id": "ce08970f",
   "metadata": {},
   "outputs": [
    {
     "data": {
      "text/plain": [
       "array([[0.95004236, 0.5871642 , 0.99634948, 0.42886576, 0.41489202],\n",
       "       [1.3367011 , 0.87448652, 1.6514344 , 0.83377426, 0.58270242],\n",
       "       [1.51361165, 1.17046295, 1.69794202, 1.05845721, 0.57539404],\n",
       "       [1.01751029, 0.78182491, 1.20835751, 0.79754964, 0.46847073],\n",
       "       [1.62972639, 0.95200482, 1.7845697 , 0.99201685, 0.59468563]])"
      ]
     },
     "execution_count": 18,
     "metadata": {},
     "output_type": "execute_result"
    }
   ],
   "source": [
    "myMatrix = np.matrix(np.random.random((5,5)))\n",
    "linalg.funm(myMatrix, lambda x: x*x)\n"
   ]
  },
  {
   "cell_type": "code",
   "execution_count": 25,
   "id": "2a7d994a",
   "metadata": {},
   "outputs": [
    {
     "data": {
      "text/plain": [
       "matrix([[ 1.00000000e+00,  3.33066907e-16, -5.55111512e-17,\n",
       "         -1.11022302e-16,  5.55111512e-17],\n",
       "        [ 2.68882139e-17,  1.00000000e+00,  6.93889390e-18,\n",
       "          8.32667268e-17, -3.12250226e-17],\n",
       "        [ 5.55111512e-17,  0.00000000e+00,  1.00000000e+00,\n",
       "          3.33066907e-16,  2.22044605e-16],\n",
       "        [ 1.66533454e-16,  0.00000000e+00,  0.00000000e+00,\n",
       "          1.00000000e+00, -4.44089210e-16],\n",
       "        [ 1.04083409e-16,  5.55111512e-17,  1.11022302e-16,\n",
       "          2.22044605e-16,  1.00000000e+00]])"
      ]
     },
     "execution_count": 25,
     "metadata": {},
     "output_type": "execute_result"
    }
   ],
   "source": [
    "#myMatrix.T\n",
    "#myMatrix.H\n",
    "myMatrix.I"
   ]
  },
  {
   "cell_type": "code",
   "execution_count": null,
   "id": "bc69e3d6",
   "metadata": {},
   "outputs": [],
   "source": [
    "# Vector dot product\n",
    "vectorDotProduct = np.vdot(vector1, vector2)\n",
    "\n",
    "# Inner product\n",
    "innerProduct = np.inner(vector1, vector2)\n",
    "\n",
    "# Outer product\n",
    "outerProduct = np.outer(vector1, vector2)\n",
    "\n",
    "# Tensor dot product\n",
    "tensorDotProduct = np.tensordot(matrix1, matrix2)\n",
    "\n",
    "# Kronecker product\n",
    "kronProduct = np.kron(matrix1, matrix2)"
   ]
  },
  {
   "cell_type": "code",
   "execution_count": 11,
   "id": "ce83f7e2",
   "metadata": {},
   "outputs": [
    {
     "data": {
      "text/html": [
       "<a href=\"https://en.wikipedia.org/wiki/Einstein_notation#Common_operations_in_this_notation\"> \n",
       "Common Operations in Eistein Notation</a>\n"
      ],
      "text/plain": [
       "<IPython.core.display.HTML object>"
      ]
     },
     "metadata": {},
     "output_type": "display_data"
    }
   ],
   "source": [
    "%%html\n",
    "<a href=\"https://en.wikipedia.org/wiki/Einstein_notation#Common_operations_in_this_notation\"> \n",
    "Common Operations in Eistein Notation</a>"
   ]
  },
  {
   "cell_type": "code",
   "execution_count": null,
   "id": "75db6928",
   "metadata": {},
   "outputs": [],
   "source": [
    "#This function requires two arguments, first is called “subscript”, second is called “operands”\n",
    "# Here we use i and j to represent the dimensions of the operand x , k and j to represent dimensions of the operand y . \n",
    "# And we specify the output matrix to be in the dimension i * k.\n"
   ]
  },
  {
   "cell_type": "code",
   "execution_count": 21,
   "id": "53b7bda0",
   "metadata": {},
   "outputs": [
    {
     "data": {
      "text/plain": [
       "array([[1.43491565, 1.09282743, 1.24963153, 0.7998653 , 1.01706838],\n",
       "       [1.16073186, 1.03088883, 1.24975514, 0.49499477, 0.73509429]])"
      ]
     },
     "execution_count": 21,
     "metadata": {},
     "output_type": "execute_result"
    }
   ],
   "source": [
    "x = np.random.rand(2,3)\n",
    "y = np.random.rand(5,3)\n",
    "np.einsum('ij,kj -> ik',x,y)"
   ]
  },
  {
   "cell_type": "code",
   "execution_count": 22,
   "id": "4d2a0637",
   "metadata": {},
   "outputs": [
    {
     "data": {
      "text/plain": [
       "7.408719473496826"
      ]
     },
     "execution_count": 22,
     "metadata": {},
     "output_type": "execute_result"
    }
   ],
   "source": [
    "x = np.random.rand(2,3)\n",
    "np.einsum('ij -> ji',x)   # transpose\n",
    "np.einsum('ij ->',x)    # sum\n",
    "np.einsum('ij -> i',x)   # column sum\n",
    "np.einsum('ij -> j',x)  # row sum\n",
    "\n",
    "x = np.random.rand(2,3)\n",
    "y = np.random.rand(5,3)\n",
    "np.einsum('ij,kj -> ik',x,y)  # matrix multiplication\n",
    "\n",
    "a = np.array([4,5,6])\n",
    "b = np.array([7,8,9])\n",
    "np.einsum('i,i ->',a,b)   # inner product\n",
    "np.einsum('i,j ->ij',a,b)  # outer product\n",
    "np.einsum('i,i ->i',a,b)   # hadamard product\n",
    "\n",
    "y = np.random.rand(5,3)\n",
    "np.einsum('ij -> j',y)   # diagonal\n",
    "np.einsum('ij ->',y)   # trace"
   ]
  }
 ],
 "metadata": {
  "kernelspec": {
   "display_name": "Python 3",
   "language": "python",
   "name": "python3"
  },
  "language_info": {
   "codemirror_mode": {
    "name": "ipython",
    "version": 3
   },
   "file_extension": ".py",
   "mimetype": "text/x-python",
   "name": "python",
   "nbconvert_exporter": "python",
   "pygments_lexer": "ipython3",
   "version": "3.8.8"
  }
 },
 "nbformat": 4,
 "nbformat_minor": 5
}
